{
 "cells": [
  {
   "cell_type": "markdown",
   "id": "6d2047f5",
   "metadata": {},
   "source": [
    "# Clara Viz Interactive Rendering of Multi Level Images\n",
    "This notebook shows how to load a volume dataset using the DataDefinition class append method. The append method uses ITK to load the dataset from disk.\n",
    "The rendering settings are loaded from a JSON file.\n",
    "Then the Clara Viz widget is used to display an interactive view of the data."
   ]
  },
  {
   "cell_type": "code",
   "execution_count": null,
   "id": "02848184-502d-4fba-9127-a4dd73779330",
   "metadata": {},
   "outputs": [],
   "source": [
    "# The DataDefinition class is using cuCIM to load the data files, make sure cuCim is available\n",
    "!python3 -c \"import cucim\" || python3 -m pip install cucim\n",
    "\n",
    "from os.path import exists\n",
    "from urllib.request import urlretrieve\n",
    "\n",
    "file_name = \"data/OpenSlide/CMU-1.tiff\"\n",
    "if not exists(file_name):\n",
    "    print(f'Downloading {file_name}')\n",
    "    urlretrieve(\"http://openslide.cs.cmu.edu/download/openslide-testdata/Generic-TIFF/CMU-1.tiff\", file_name)"
   ]
  },
  {
   "cell_type": "markdown",
   "id": "0dab6d05",
   "metadata": {},
   "source": [
    "## Create and display the widget\n",
    "The data to be rendered needs to be defined. Clara Viz provides a support class called `DataDefinition` which supports loading medical data formats and serves as a container for the data."
   ]
  },
  {
   "cell_type": "code",
   "execution_count": null,
   "id": "fc5db1ae",
   "metadata": {},
   "outputs": [],
   "source": [
    "from clara.viz.core import DataDefinition\n",
    "from clara.viz.widgets import Widget\n",
    "\n",
    "display(Widget(data_definition=DataDefinition(file_name)))"
   ]
  }
 ],
 "metadata": {
  "kernelspec": {
   "display_name": "Python 3 (ipykernel)",
   "language": "python",
   "name": "python3"
  },
  "language_info": {
   "codemirror_mode": {
    "name": "ipython",
    "version": 3
   },
   "file_extension": ".py",
   "mimetype": "text/x-python",
   "name": "python",
   "nbconvert_exporter": "python",
   "pygments_lexer": "ipython3",
   "version": "3.8.10"
  }
 },
 "nbformat": 4,
 "nbformat_minor": 5
}
