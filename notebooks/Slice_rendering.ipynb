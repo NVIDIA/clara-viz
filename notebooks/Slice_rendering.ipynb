{
 "cells": [
  {
   "cell_type": "markdown",
   "metadata": {},
   "source": [
    "# Clara Viz Interactive Slice rendering\n",
    "This notebook shows how to load a volume dataset using the DataDefinition class append method. The append method uses ITK to load the dataset from disk.\n",
    "The rendering settings are loaded from a JSON file.\n",
    "Then the Clara Viz widget is used to display an interactive view of the data.\n",
    "\n",
    "## Define the data\n",
    "First the data to be rendered needs to be defined. Clara Viz provides a support class called `DataDefinition` which supports loading medical data formats and serves as a container for the data including orientation and for the settings like lights and transfer functions."
   ]
  },
  {
   "cell_type": "code",
   "execution_count": null,
   "metadata": {},
   "outputs": [],
   "source": [
    "# The DataDefinition class is using ITK to load the data files, make sure ITK is available\n",
    "!python3 -c \"import itk\" || python3 -m pip install itk\n",
    "\n",
    "from clara.viz.core import DataDefinition\n",
    "\n",
    "data_definition = DataDefinition()\n",
    "data_definition.append('data/syn3193805/img0066.nii.gz', 'DXYZ')\n",
    "data_definition.append('data/syn3193805/label0066.nii.gz', 'MXYZ')\n",
    "data_definition.load_settings('data/syn3193805/settings.json')"
   ]
  },
  {
   "cell_type": "markdown",
   "metadata": {},
   "source": [
    "## Create a widget and select the data definition, then display the widget\n",
    "\n",
    "* press and hold left mouse button and move mouse to change slice\n",
    "* press and hold middle mouse button and move mouse to move around\n",
    "* mouse wheel to zoom in and out"
   ]
  },
  {
   "cell_type": "code",
   "execution_count": null,
   "metadata": {},
   "outputs": [],
   "source": [
    "from clara.viz.widgets import Widget\n",
    "from ipywidgets import interactive, Dropdown, Box, VBox\n",
    "\n",
    "# switch to slice view, default is cinematic rendering\n",
    "data_definition.settings['Views'][0]['cameraName'] = 'Top'\n",
    "data_definition.settings['Views'][0]['mode'] = 'SLICE_SEGMENTATION'\n",
    "\n",
    "# create the widget\n",
    "widget = Widget(data_definition=data_definition)\n",
    "\n",
    "# dropdown callback function\n",
    "def set_camera(camera_name):\n",
    "    widget.settings['Views'][0]['cameraName'] = camera_name\n",
    "    widget.set_settings()\n",
    "\n",
    "# create a dropdown to select the view and display it alognside to the widget\n",
    "camera_dropdown = interactive(set_camera, camera_name=Dropdown(options=['Top', 'Front', 'Right'], value=widget.settings['Views'][0]['cameraName'], description='View'))\n",
    "display(Box([widget, camera_dropdown]))"
   ]
  }
 ],
 "metadata": {
  "interpreter": {
   "hash": "916dbcbb3f70747c44a77c7bcd40155683ae19c65e1c03b4aa3499c5328201f1"
  },
  "kernelspec": {
   "display_name": "Python 3 (ipykernel)",
   "language": "python",
   "name": "python3"
  },
  "language_info": {
   "codemirror_mode": {
    "name": "ipython",
    "version": 3
   },
   "file_extension": ".py",
   "mimetype": "text/x-python",
   "name": "python",
   "nbconvert_exporter": "python",
   "pygments_lexer": "ipython3",
   "version": "3.8.10"
  }
 },
 "nbformat": 4,
 "nbformat_minor": 4
}
