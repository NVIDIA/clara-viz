{
 "cells": [
  {
   "cell_type": "markdown",
   "metadata": {},
   "source": [
    "# Clara Viz Interactive Cinematic rendering\n",
    "This notebook shows how to load a volume dataset using the DataDefinition class append method. The append method uses ITK to load the dataset from disk.\n",
    "The rendering settings are loaded from a JSON file.\n",
    "Then the Clara Viz widget is used to display an interactive view of the data.\n",
    "\n",
    "## Define the data\n",
    "First the data to be rendered needs to be defined. Clara Viz provides a support class called `DataDefinition` which supports loading medical data formats and serves as a container for the data including orientation and for the settings like lights and transfer functions."
   ]
  },
  {
   "cell_type": "code",
   "execution_count": null,
   "metadata": {},
   "outputs": [],
   "source": [
    "# The DataDefinition class is using ITK to load the data files, make sure ITK is available\n",
    "!python3 -c \"import itk\" || python3 -m pip install itk\n",
    "\n",
    "from clara.viz.core import DataDefinition\n",
    "\n",
    "data_definition = DataDefinition()\n",
    "data_definition.append('data/syn3193805/img0066.nii.gz', 'DXYZ')\n",
    "data_definition.append('data/syn3193805/label0066.nii.gz', 'MXYZ')\n",
    "data_definition.load_settings('data/syn3193805/settings.json')"
   ]
  },
  {
   "cell_type": "markdown",
   "metadata": {},
   "source": [
    "## Create a widget and select the data definition, then display the widget"
   ]
  },
  {
   "cell_type": "code",
   "execution_count": null,
   "metadata": {},
   "outputs": [],
   "source": [
    "from clara.viz.widgets import Widget\n",
    "display(Widget(data_definition=data_definition))"
   ]
  }
 ],
 "metadata": {
  "interpreter": {
   "hash": "916dbcbb3f70747c44a77c7bcd40155683ae19c65e1c03b4aa3499c5328201f1"
  },
  "kernelspec": {
   "display_name": "Python 3 (ipykernel)",
   "language": "python",
   "name": "python3"
  },
  "language_info": {
   "codemirror_mode": {
    "name": "ipython",
    "version": 3
   },
   "file_extension": ".py",
   "mimetype": "text/x-python",
   "name": "python",
   "nbconvert_exporter": "python",
   "pygments_lexer": "ipython3",
   "version": "3.8.10"
  }
 },
 "nbformat": 4,
 "nbformat_minor": 4
}
