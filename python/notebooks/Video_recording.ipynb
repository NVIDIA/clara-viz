{
 "cells": [
  {
   "cell_type": "markdown",
   "metadata": {},
   "source": [
    "# Clara Viz Video Recording\n",
    "This notebook shows how to record a video of the animated rendering of volume data.\n",
    "\n",
    "## Define the data\n",
    "First the data to be rendered needs to be defined. Clara Viz provides a support class called `DataDefinition` which supports loading medical data formats and serves as a container for the data including orientation and for the settings like lights and transfer functions."
   ]
  },
  {
   "cell_type": "code",
   "execution_count": null,
   "metadata": {},
   "outputs": [],
   "source": [
    "# The DataDefinition class is using ITK to load the data files, make sure ITK is available\n",
    "!python3 -c \"import itk\" || python3 -m pip install itk\n",
    "\n",
    "from clara.viz.core import DataDefinition\n",
    "\n",
    "data_definition = DataDefinition()\n",
    "data_definition.append('data/syn3193805/img0066.nii.gz', 'DXYZ')\n",
    "data_definition.append('data/syn3193805/label0066.nii.gz', 'MXYZ')\n",
    "data_definition.load_settings('data/syn3193805/settings.json')"
   ]
  },
  {
   "cell_type": "markdown",
   "metadata": {},
   "source": [
    "## Create the renderer using the data definition"
   ]
  },
  {
   "cell_type": "code",
   "execution_count": null,
   "metadata": {},
   "outputs": [],
   "source": [
    "from clara.viz.core import Renderer\n",
    "renderer = Renderer(data_definition)"
   ]
  },
  {
   "cell_type": "markdown",
   "metadata": {},
   "source": [
    "## Set the video stream up"
   ]
  },
  {
   "cell_type": "code",
   "execution_count": null,
   "metadata": {},
   "outputs": [],
   "source": [
    "# open the video file\n",
    "file = open('./video.mp4', 'wb')\n",
    "\n",
    "# create a video stream\n",
    "video_stream = renderer.create_video_stream(lambda data, new_stream: file.write(bytes(data)))\n",
    "\n",
    "# configure the video stream\n",
    "width = 1024\n",
    "height = 768\n",
    "frame_rate = 30.0\n",
    "\n",
    "# use the 'Kush Gauge' to estimate the bit rate\n",
    "# (1 - low, 2 - medium, 4 - high)\n",
    "motion_factor = 1\n",
    "bit_rate = int(width * height * frame_rate * motion_factor * 0.07)\n",
    "video_stream.configure(width, height, frame_rate, bit_rate)"
   ]
  },
  {
   "cell_type": "markdown",
   "metadata": {},
   "source": [
    "## Start recording and animate the camera"
   ]
  },
  {
   "cell_type": "code",
   "execution_count": null,
   "metadata": {},
   "outputs": [],
   "source": [
    "import math\n",
    "import time\n",
    "\n",
    "# get the settings and find the camera\n",
    "settings = renderer.get_settings()\n",
    "camera = [x for x in settings['Cameras'] if x['name'] == 'Perspective'][0]\n",
    "\n",
    "# start the video\n",
    "video_stream.play()\n",
    "\n",
    "# rotatet the camera\n",
    "for step in range(0, 360):\n",
    "    camera['eye']['x'] = math.cos(math.radians(step))\n",
    "    camera['eye']['z'] = math.sin(math.radians(step))\n",
    "    renderer.merge_settings(settings)\n",
    "    time.sleep(1/frame_rate)\n",
    "\n",
    "# stop the stream\n",
    "video_stream.stop()\n",
    "\n",
    "# wait for all frames to arrive\n",
    "time.sleep(1)\n",
    "\n",
    "# close the file\n",
    "file.close()"
   ]
  },
  {
   "cell_type": "markdown",
   "metadata": {},
   "source": [
    "## View the video file"
   ]
  },
  {
   "cell_type": "code",
   "execution_count": null,
   "metadata": {},
   "outputs": [],
   "source": [
    "import IPython\n",
    "IPython.display.Video('./video.mp4')"
   ]
  }
 ],
 "metadata": {
  "interpreter": {
   "hash": "916dbcbb3f70747c44a77c7bcd40155683ae19c65e1c03b4aa3499c5328201f1"
  },
  "kernelspec": {
   "display_name": "Python 3 (ipykernel)",
   "language": "python",
   "name": "python3"
  },
  "language_info": {
   "codemirror_mode": {
    "name": "ipython",
    "version": 3
   },
   "file_extension": ".py",
   "mimetype": "text/x-python",
   "name": "python",
   "nbconvert_exporter": "python",
   "pygments_lexer": "ipython3",
   "version": "3.8.10"
  }
 },
 "nbformat": 4,
 "nbformat_minor": 4
}
